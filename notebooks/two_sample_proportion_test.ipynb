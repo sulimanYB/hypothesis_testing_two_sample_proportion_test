{
 "cells": [
  {
   "cell_type": "code",
   "execution_count": 1,
   "metadata": {},
   "outputs": [],
   "source": [
    "import pandas as pd\n",
    "import numpy as np\n",
    "from scipy.stats import norm, t\n",
    "from statsmodels.stats.proportion import proportions_ztest"
   ]
  },
  {
   "cell_type": "markdown",
   "metadata": {},
   "source": [
    "### Read data"
   ]
  },
  {
   "cell_type": "code",
   "execution_count": 2,
   "metadata": {},
   "outputs": [],
   "source": [
    "stack_overflow = pd.read_feather(r\"..\\data\\stack_overflow.feather\")  "
   ]
  },
  {
   "cell_type": "markdown",
   "metadata": {},
   "source": [
    "<img src=\"..\\data\\comparing_two_props.jpg\" width=\"800\" height=\"250\">"
   ]
  },
  {
   "cell_type": "code",
   "execution_count": 3,
   "metadata": {},
   "outputs": [],
   "source": [
    "alpha = 0.05"
   ]
  },
  {
   "cell_type": "markdown",
   "metadata": {},
   "source": [
    "<img src=\"..\\data\\two_sample_prop_z_score.jpg\" width=\"600\" height=\"400\">"
   ]
  },
  {
   "cell_type": "code",
   "execution_count": 4,
   "metadata": {},
   "outputs": [
    {
     "name": "stdout",
     "output_type": "stream",
     "text": [
      "age_cat      hobbyist\n",
      "At least 30  Yes         0.773333\n",
      "             No          0.226667\n",
      "Under 30     Yes         0.843105\n",
      "             No          0.156895\n",
      "Name: hobbyist, dtype: float64\n"
     ]
    }
   ],
   "source": [
    "p_hats = stack_overflow.groupby(\"age_cat\")[\"hobbyist\"].value_counts(normalize=True)\n",
    "print(p_hats)"
   ]
  },
  {
   "cell_type": "code",
   "execution_count": 5,
   "metadata": {},
   "outputs": [
    {
     "name": "stdout",
     "output_type": "stream",
     "text": [
      "age_cat\n",
      "At least 30    1050\n",
      "Under 30       1211\n",
      "Name: hobbyist, dtype: int64\n"
     ]
    }
   ],
   "source": [
    "n= stack_overflow.groupby(\"age_cat\")[\"hobbyist\"].count()\n",
    "print(n)"
   ]
  },
  {
   "cell_type": "code",
   "execution_count": 6,
   "metadata": {},
   "outputs": [
    {
     "name": "stdout",
     "output_type": "stream",
     "text": [
      "z-score is:-4.223691463320559\n",
      "The two-tailed p-value is:2.403330142685068e-05\n",
      "p_value <= alpha. Reject H0 in favour of HA\n"
     ]
    }
   ],
   "source": [
    "p_hat_at_least_30 = p_hats[(\"At least 30\", \"Yes\")]\n",
    "p_hat_under_30 = p_hats[(\"Under 30\", \"Yes\")]\n",
    "n_at_least_30 = n[\"At least 30\"]\n",
    "n_under_30 = n[\"Under 30\"]\n",
    "\n",
    "# Calculate the pooled estimate of the population proportion\n",
    "p_hat = (n_at_least_30 * p_hat_at_least_30 + n_under_30 * p_hat_under_30) / (n_at_least_30 + n_under_30)\n",
    "\n",
    "# Calculate the standard error\n",
    "std_error = np.sqrt(\n",
    "    p_hat * (1 - p_hat) / n_at_least_30 + p_hat * (1 - p_hat) / n_under_30\n",
    ")\n",
    "\n",
    "# Calculate the z-score\n",
    "z_score = (p_hat_at_least_30 - p_hat_under_30) / std_error\n",
    "print(\"z-score is:{}\".format(z_score))\n",
    "\n",
    "# Two-tailed \n",
    "p_value = 2 * min(norm.cdf(z_score), 1- norm.cdf(z_score))\n",
    "print(\"The two-tailed p-value is:{}\".format(p_value))\n",
    "\n",
    "if p_value <= alpha:\n",
    "    print(\"p_value <= alpha. Reject H0 in favour of HA\")\n",
    "else:\n",
    "    print(\"Failed to reject H0\")"
   ]
  },
  {
   "cell_type": "markdown",
   "metadata": {},
   "source": [
    "This tiny p-value leads us to suspect that the proportion of hobbyiest users is different for those under 30 to those who are at least 30. "
   ]
  },
  {
   "cell_type": "markdown",
   "metadata": {},
   "source": [
    "### Proportion tests using proportions_ztest()"
   ]
  },
  {
   "cell_type": "code",
   "execution_count": 7,
   "metadata": {},
   "outputs": [
    {
     "name": "stdout",
     "output_type": "stream",
     "text": [
      "z-score is:-4.223691463320559\n",
      "The two-tailed p-value is:2.403330142685068e-05\n"
     ]
    }
   ],
   "source": [
    "n= stack_overflow.groupby(\"age_cat\")[\"hobbyist\"].value_counts()\n",
    "\n",
    "# Create an array of the \"Yes\" counts for each group\n",
    "n_hobbyists = np.array([n[(\"At least 30\", \"Yes\")], n[(\"Under 30\", \"Yes\")]])\n",
    "\n",
    "# Create an array of the total number of rows in each group\n",
    "n_rows = np.array([n[(\"At least 30\", \"Yes\")] + n[(\"At least 30\", \"No\")], \n",
    "                   n[(\"Under 30\", \"Yes\")] + n[(\"Under 30\", \"No\")]])\n",
    "\n",
    "# Run a z-test on the two proportions\n",
    "z_score, p_value = proportions_ztest(count=n_hobbyists, nobs=n_rows,\n",
    "                                     alternative=\"two-sided\")\n",
    "\n",
    "print(\"z-score is:{}\".format(z_score))\n",
    "print(\"The two-tailed p-value is:{}\".format(p_value))"
   ]
  },
  {
   "cell_type": "code",
   "execution_count": 8,
   "metadata": {},
   "outputs": [
    {
     "name": "stdout",
     "output_type": "stream",
     "text": [
      "p_value <= alpha. Reject H0 in favour of HA\n"
     ]
    }
   ],
   "source": [
    "if p_value <= alpha:\n",
    "    print(\"p_value <= alpha. Reject H0 in favour of HA\")\n",
    "else:\n",
    "    print(\"Failed to reject H0\")"
   ]
  }
 ],
 "metadata": {
  "kernelspec": {
   "display_name": "base",
   "language": "python",
   "name": "python3"
  },
  "language_info": {
   "codemirror_mode": {
    "name": "ipython",
    "version": 3
   },
   "file_extension": ".py",
   "mimetype": "text/x-python",
   "name": "python",
   "nbconvert_exporter": "python",
   "pygments_lexer": "ipython3",
   "version": "3.11.3"
  }
 },
 "nbformat": 4,
 "nbformat_minor": 2
}
